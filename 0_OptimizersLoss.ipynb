{
 "cells": [
  {
   "cell_type": "markdown",
   "metadata": {
    "id": "mBagxnfSOF8Q"
   },
   "source": [
    "\n",
    "# Setup"
   ]
  },
  {
   "cell_type": "code",
   "execution_count": null,
   "metadata": {
    "colab": {
     "base_uri": "https://localhost:8080/"
    },
    "executionInfo": {
     "elapsed": 29498,
     "status": "ok",
     "timestamp": 1701911059341,
     "user": {
      "displayName": "Pankaj Yadav",
      "userId": "01823062007120238509"
     },
     "user_tz": 300
    },
    "id": "qo1jhglR21Ir",
    "outputId": "5b6ad957-d72c-4655-a50e-d52d15e03d53"
   },
   "outputs": [],
   "source": [
    "from google.colab import drive\n",
    "drive.mount('/content/drive/')"
   ]
  },
  {
   "cell_type": "code",
   "execution_count": null,
   "metadata": {
    "colab": {
     "base_uri": "https://localhost:8080/"
    },
    "executionInfo": {
     "elapsed": 8,
     "status": "ok",
     "timestamp": 1701911059342,
     "user": {
      "displayName": "Pankaj Yadav",
      "userId": "01823062007120238509"
     },
     "user_tz": 300
    },
    "id": "yssWfn7w27Bv",
    "outputId": "0e915824-b83b-40fe-a992-beca7232cc51"
   },
   "outputs": [],
   "source": [
    "cd /content/drive/Shareddrives/DL_project/"
   ]
  },
  {
   "cell_type": "code",
   "execution_count": null,
   "metadata": {
    "id": "QsD71T-p28e5"
   },
   "outputs": [],
   "source": [
    "from NST import StyleTransfer, create_gif\n",
    "from IPython.display import display, Image\n",
    "import time\n",
    "import json"
   ]
  },
  {
   "cell_type": "markdown",
   "metadata": {
    "id": "aNXbQc4lODTY"
   },
   "source": [
    "# Importing Images"
   ]
  },
  {
   "cell_type": "code",
   "execution_count": null,
   "metadata": {
    "id": "1VpahMvJ29rK"
   },
   "outputs": [],
   "source": [
    "content_image1 = '/content/drive/Shareddrives/DL_project/final_images/content/figures.jpg'\n",
    "content_image2 = '/content/drive/Shareddrives/DL_project/final_images/content/lion.jpg'\n",
    "content_image3 = '/content/drive/Shareddrives/DL_project/final_images/content/taj_mahal.jpg'\n",
    "content_image4 = '/content/drive/Shareddrives/DL_project/final_images/content/green_bridge.jpg'\n",
    "\n",
    "style_image1 = '/content/drive/Shareddrives/DL_project/final_images/styles/Tsunami_by_hokusai_19th_century.jpg'\n",
    "style_image2 = '/content/drive/Shareddrives/DL_project/final_images/styles/mosaic.jpg'\n",
    "style_image3 = '/content/drive/Shareddrives/DL_project/final_images/styles/vg_starry_night.jpg'\n",
    "style_image4 = '/content/drive/Shareddrives/DL_project/final_images/styles/vg_la_cafe.jpg'"
   ]
  },
  {
   "cell_type": "code",
   "execution_count": null,
   "metadata": {
    "id": "gUfDDjo4dgBy"
   },
   "outputs": [],
   "source": [
    "losses = {\n",
    "    \"Adam\":{},\n",
    "    \"LBFGS\": {}\n",
    "}"
   ]
  },
  {
   "cell_type": "code",
   "execution_count": null,
   "metadata": {
    "id": "V1xgVMXczdDV"
   },
   "outputs": [],
   "source": [
    "ab_losses = {}"
   ]
  },
  {
   "cell_type": "markdown",
   "metadata": {
    "id": "vy9NfuU-3ANW"
   },
   "source": [
    "# Experiment 0\n",
    "\n",
    "In this experiment we are comparing two optimizers, Adam and L-BFGS. The goal of this experiment is to see which optimizeris more efficient.\n",
    "NOTE: to reduce the complexity of the task and computation time we are starting with an initial image that is our content image and not randomly initialized pixel values.\n",
    "\n"
   ]
  },
  {
   "cell_type": "markdown",
   "metadata": {
    "id": "Lh5R4KuxNYs-"
   },
   "source": [
    "## Experiment 0.1\n",
    "\n",
    "Adam Optimizer"
   ]
  },
  {
   "cell_type": "code",
   "execution_count": null,
   "metadata": {
    "id": "go8maPmCPob2"
   },
   "outputs": [],
   "source": [
    "optimizer = \"Adam\""
   ]
  },
  {
   "cell_type": "markdown",
   "metadata": {
    "id": "Rs7HBg4UcI8o"
   },
   "source": [
    "### Experiment 0.1.1"
   ]
  },
  {
   "cell_type": "code",
   "execution_count": null,
   "metadata": {
    "colab": {
     "base_uri": "https://localhost:8080/"
    },
    "executionInfo": {
     "elapsed": 1507,
     "status": "ok",
     "timestamp": 1701558878869,
     "user": {
      "displayName": "Pankaj Yadav",
      "userId": "01823062007120238509"
     },
     "user_tz": 300
    },
    "id": "ALwfQd0gOmtO",
    "outputId": "c7687425-6d8f-43ae-c811-10134e678235"
   },
   "outputs": [],
   "source": [
    "obj = StyleTransfer(content_image4, style_image4)"
   ]
  },
  {
   "cell_type": "code",
   "execution_count": null,
   "metadata": {
    "colab": {
     "base_uri": "https://localhost:8080/",
     "height": 422,
     "output_embedded_package_id": "1aZV_Yr6wx2WAZ1klFbZ6L3yKHsRqVPSy"
    },
    "executionInfo": {
     "elapsed": 11586,
     "status": "ok",
     "timestamp": 1701558893075,
     "user": {
      "displayName": "Pankaj Yadav",
      "userId": "01823062007120238509"
     },
     "user_tz": 300
    },
    "id": "IRhxjM1ENYs_",
    "outputId": "58d39464-e0f8-4d5e-d7da-fcd8983c66b1"
   },
   "outputs": [],
   "source": [
    "exp_name = \"Experiment_0.1.1\"\n",
    "obj.set_exp(exp_name)\n",
    "obj.show_images()"
   ]
  },
  {
   "cell_type": "code",
   "execution_count": null,
   "metadata": {
    "colab": {
     "base_uri": "https://localhost:8080/",
     "height": 469
    },
    "executionInfo": {
     "elapsed": 82373,
     "status": "ok",
     "timestamp": 1701559391910,
     "user": {
      "displayName": "Pankaj Yadav",
      "userId": "01823062007120238509"
     },
     "user_tz": 300
    },
    "id": "PZspRpYTNYtA",
    "outputId": "ed33c53e-6233-49ec-aa9a-8c5dc262fdb1"
   },
   "outputs": [],
   "source": [
    "start_time = time.time()\n",
    "obj.run(opt = optimizer)\n",
    "end_time = time.time()"
   ]
  },
  {
   "cell_type": "code",
   "execution_count": null,
   "metadata": {
    "colab": {
     "base_uri": "https://localhost:8080/"
    },
    "executionInfo": {
     "elapsed": 506,
     "status": "ok",
     "timestamp": 1701559397097,
     "user": {
      "displayName": "Pankaj Yadav",
      "userId": "01823062007120238509"
     },
     "user_tz": 300
    },
    "id": "EV_5UacCVkRt",
    "outputId": "556be76a-a132-4a2a-be03-5f42bf8e4c75"
   },
   "outputs": [],
   "source": [
    "print(\"Elapsed processing time: {}\".format(end_time - start_time))\n",
    "loss = obj.get_loss()\n",
    "loss = [t.item() for t in loss]\n",
    "losses[optimizer][\"e5000\"] = loss\n",
    "losses"
   ]
  },
  {
   "cell_type": "code",
   "execution_count": null,
   "metadata": {
    "id": "76qKwknYNYtB"
   },
   "outputs": [],
   "source": [
    "create_gif(exp_name)"
   ]
  },
  {
   "cell_type": "code",
   "execution_count": null,
   "metadata": {
    "colab": {
     "base_uri": "https://localhost:8080/",
     "height": 417,
     "output_embedded_package_id": "121kioOoImeMNrFBZNHjig418hPu3-qf_"
    },
    "executionInfo": {
     "elapsed": 69650,
     "status": "ok",
     "timestamp": 1701556998452,
     "user": {
      "displayName": "Pankaj Yadav",
      "userId": "01823062007120238509"
     },
     "user_tz": 300
    },
    "id": "gSoL3tj6NYtB",
    "outputId": "4eeae2a4-49d1-4b94-8181-c335be78d64c"
   },
   "outputs": [],
   "source": [
    "display(Image(filename=\"Outputs/{0}/gif.gif\".format(exp_name)))"
   ]
  },
  {
   "cell_type": "markdown",
   "metadata": {
    "id": "fN6MElBMeyn9"
   },
   "source": [
    "### Experiment 0.1.2"
   ]
  },
  {
   "cell_type": "code",
   "execution_count": null,
   "metadata": {
    "colab": {
     "base_uri": "https://localhost:8080/"
    },
    "executionInfo": {
     "elapsed": 2236,
     "status": "ok",
     "timestamp": 1701557727472,
     "user": {
      "displayName": "Pankaj Yadav",
      "userId": "01823062007120238509"
     },
     "user_tz": 300
    },
    "id": "bG3nSfbCfGF1",
    "outputId": "f5f6ac46-154e-4c20-fb95-957b65b9cbe5"
   },
   "outputs": [],
   "source": [
    "epochs = 10000\n",
    "obj = StyleTransfer(content_image4, style_image4)"
   ]
  },
  {
   "cell_type": "code",
   "execution_count": null,
   "metadata": {
    "colab": {
     "base_uri": "https://localhost:8080/",
     "height": 422,
     "output_embedded_package_id": "1qecA6zviBIKD_-PvWQm44YFNPgRo8G96"
    },
    "executionInfo": {
     "elapsed": 10723,
     "status": "ok",
     "timestamp": 1701559435178,
     "user": {
      "displayName": "Pankaj Yadav",
      "userId": "01823062007120238509"
     },
     "user_tz": 300
    },
    "id": "12jANvWAeyn-",
    "outputId": "357e0db0-9289-43c1-c0b8-d693c910854c"
   },
   "outputs": [],
   "source": [
    "exp_name = \"Experiment_0.1.2\"\n",
    "obj.set_exp(exp_name)\n",
    "obj.show_images()"
   ]
  },
  {
   "cell_type": "code",
   "execution_count": null,
   "metadata": {
    "colab": {
     "base_uri": "https://localhost:8080/",
     "height": 469
    },
    "executionInfo": {
     "elapsed": 87844,
     "status": "ok",
     "timestamp": 1701558740156,
     "user": {
      "displayName": "Pankaj Yadav",
      "userId": "01823062007120238509"
     },
     "user_tz": 300
    },
    "id": "emEt1zzueyn-",
    "outputId": "774c7ade-ef47-4dbc-ad5d-76533efb6e68"
   },
   "outputs": [],
   "source": [
    "start_time = time.time()\n",
    "obj.run(opt = optimizer, steps = epochs)\n",
    "end_time = time.time()"
   ]
  },
  {
   "cell_type": "code",
   "execution_count": null,
   "metadata": {
    "colab": {
     "base_uri": "https://localhost:8080/"
    },
    "executionInfo": {
     "elapsed": 368,
     "status": "ok",
     "timestamp": 1701558842717,
     "user": {
      "displayName": "Pankaj Yadav",
      "userId": "01823062007120238509"
     },
     "user_tz": 300
    },
    "id": "_2FDRxvMeyn-",
    "outputId": "2913161d-49f9-4d6f-ec74-1770edad88d5"
   },
   "outputs": [],
   "source": [
    "print(\"Elapsed processing time: {}\".format(end_time - start_time))\n",
    "loss = obj.get_loss()\n",
    "loss = [t.item() for t in loss]\n",
    "losses[optimizer][\"e10000\"] = loss\n",
    "losses"
   ]
  },
  {
   "cell_type": "code",
   "execution_count": null,
   "metadata": {
    "id": "vJ8yEsXYeyoI"
   },
   "outputs": [],
   "source": [
    "create_gif(exp_name)"
   ]
  },
  {
   "cell_type": "code",
   "execution_count": null,
   "metadata": {
    "colab": {
     "base_uri": "https://localhost:8080/",
     "height": 417,
     "output_embedded_package_id": "1HoQSuFMB-xQHMCTMpwksaoOKjfgm_Zwn"
    },
    "executionInfo": {
     "elapsed": 74845,
     "status": "ok",
     "timestamp": 1701559521577,
     "user": {
      "displayName": "Pankaj Yadav",
      "userId": "01823062007120238509"
     },
     "user_tz": 300
    },
    "id": "AAw-FHpYeyoI",
    "outputId": "a6eb764b-9282-4a85-df02-355caf097a11"
   },
   "outputs": [],
   "source": [
    "display(Image(filename=\"Outputs/{0}/gif.gif\".format(exp_name)))"
   ]
  },
  {
   "cell_type": "markdown",
   "metadata": {
    "id": "fyr3Ov4hYMXK"
   },
   "source": [
    "## Experiment 0.2\n",
    "\n",
    "LBFGS"
   ]
  },
  {
   "cell_type": "code",
   "execution_count": null,
   "metadata": {
    "id": "UwfHlNSSPlW9"
   },
   "outputs": [],
   "source": [
    "optimizer = \"LBFGS\""
   ]
  },
  {
   "cell_type": "markdown",
   "metadata": {
    "id": "DEt53i-krop1"
   },
   "source": [
    "### Experiment 0.2.1"
   ]
  },
  {
   "cell_type": "code",
   "execution_count": null,
   "metadata": {
    "colab": {
     "base_uri": "https://localhost:8080/"
    },
    "executionInfo": {
     "elapsed": 2307,
     "status": "ok",
     "timestamp": 1701557021183,
     "user": {
      "displayName": "Pankaj Yadav",
      "userId": "01823062007120238509"
     },
     "user_tz": 300
    },
    "id": "lu8VG19-rop_",
    "outputId": "31ac8f28-d8d4-4b21-f83b-a4c80b080c6f"
   },
   "outputs": [],
   "source": [
    "obj = StyleTransfer(content_image4, style_image4)"
   ]
  },
  {
   "cell_type": "code",
   "execution_count": null,
   "metadata": {
    "colab": {
     "base_uri": "https://localhost:8080/",
     "height": 422,
     "output_embedded_package_id": "1Bgnom8SLebz4T1ZzS2jnQBk-uOhZH6Jz"
    },
    "executionInfo": {
     "elapsed": 10966,
     "status": "ok",
     "timestamp": 1701557040382,
     "user": {
      "displayName": "Pankaj Yadav",
      "userId": "01823062007120238509"
     },
     "user_tz": 300
    },
    "id": "4uArK1ulrop_",
    "outputId": "3ec5d0c2-17c2-460b-add2-41ec5da90221"
   },
   "outputs": [],
   "source": [
    "exp_name = \"Experiment_0.2.1\"\n",
    "obj.set_exp(exp_name)\n",
    "obj.show_images()"
   ]
  },
  {
   "cell_type": "code",
   "execution_count": null,
   "metadata": {
    "colab": {
     "base_uri": "https://localhost:8080/",
     "height": 469
    },
    "executionInfo": {
     "elapsed": 396058,
     "status": "ok",
     "timestamp": 1701557610530,
     "user": {
      "displayName": "Pankaj Yadav",
      "userId": "01823062007120238509"
     },
     "user_tz": 300
    },
    "id": "A-NWVCjfrop_",
    "outputId": "e9148c8d-1117-4d8c-a091-c1022aaf623c"
   },
   "outputs": [],
   "source": [
    "start_time = time.time()\n",
    "obj.run(opt = optimizer)\n",
    "end_time = time.time()"
   ]
  },
  {
   "cell_type": "code",
   "execution_count": null,
   "metadata": {
    "colab": {
     "base_uri": "https://localhost:8080/"
    },
    "executionInfo": {
     "elapsed": 545,
     "status": "ok",
     "timestamp": 1701557667352,
     "user": {
      "displayName": "Pankaj Yadav",
      "userId": "01823062007120238509"
     },
     "user_tz": 300
    },
    "id": "YkbEXkjTroqA",
    "outputId": "8122cc63-6907-4fff-bf5a-559fb4046e28"
   },
   "outputs": [],
   "source": [
    "print(\"Elapsed processing time: {}\".format(end_time - start_time))\n",
    "loss = obj.get_loss()\n",
    "loss = [t.item() for t in loss]\n",
    "losses[optimizer][\"e5000\"] = loss"
   ]
  },
  {
   "cell_type": "code",
   "execution_count": null,
   "metadata": {
    "id": "zrJGSH27roqA"
   },
   "outputs": [],
   "source": [
    "create_gif(exp_name)"
   ]
  },
  {
   "cell_type": "code",
   "execution_count": null,
   "metadata": {
    "id": "vbnYDOV9roqA"
   },
   "outputs": [],
   "source": [
    "display(Image(filename=\"Outputs/{0}/gif.gif\".format(exp_name)))"
   ]
  },
  {
   "cell_type": "markdown",
   "metadata": {
    "id": "YdxdgolDroqB"
   },
   "source": [
    "\n",
    "### Experiment 0.2.2"
   ]
  },
  {
   "cell_type": "code",
   "execution_count": null,
   "metadata": {
    "colab": {
     "base_uri": "https://localhost:8080/"
    },
    "executionInfo": {
     "elapsed": 18935,
     "status": "ok",
     "timestamp": 1701896090221,
     "user": {
      "displayName": "Pankaj Yadav",
      "userId": "01823062007120238509"
     },
     "user_tz": 300
    },
    "id": "9jClxmp2roqB",
    "outputId": "ca87e1d3-1c14-4058-ed37-81df04f4d400"
   },
   "outputs": [],
   "source": [
    "epochs = 10000\n",
    "obj = StyleTransfer(content_image4, style_image4)"
   ]
  },
  {
   "cell_type": "code",
   "execution_count": null,
   "metadata": {
    "colab": {
     "base_uri": "https://localhost:8080/",
     "height": 422,
     "output_embedded_package_id": "1jLqE7ex7OnctQwTt1V4ZY6CLISYW2zC_"
    },
    "executionInfo": {
     "elapsed": 5011,
     "status": "ok",
     "timestamp": 1701896095225,
     "user": {
      "displayName": "Pankaj Yadav",
      "userId": "01823062007120238509"
     },
     "user_tz": 300
    },
    "id": "qTxIiTCQroqB",
    "outputId": "a0d18a5b-3a28-4b18-c471-e4128e30c80f"
   },
   "outputs": [],
   "source": [
    "exp_name = \"Experiment_0.2.2\"\n",
    "obj.set_exp(exp_name)\n",
    "obj.show_images()"
   ]
  },
  {
   "cell_type": "code",
   "execution_count": null,
   "metadata": {
    "colab": {
     "base_uri": "https://localhost:8080/",
     "height": 469
    },
    "executionInfo": {
     "elapsed": 149130,
     "status": "ok",
     "timestamp": 1701897195094,
     "user": {
      "displayName": "Pankaj Yadav",
      "userId": "01823062007120238509"
     },
     "user_tz": 300
    },
    "id": "CbuUoA3vroqB",
    "outputId": "fb5cfcc9-60a2-4555-e890-d009216158f1"
   },
   "outputs": [],
   "source": [
    "start_time = time.time()\n",
    "obj.run(opt = optimizer, steps = epochs)\n",
    "end_time = time.time()"
   ]
  },
  {
   "cell_type": "code",
   "execution_count": null,
   "metadata": {
    "colab": {
     "base_uri": "https://localhost:8080/"
    },
    "executionInfo": {
     "elapsed": 353,
     "status": "ok",
     "timestamp": 1701897211450,
     "user": {
      "displayName": "Pankaj Yadav",
      "userId": "01823062007120238509"
     },
     "user_tz": 300
    },
    "id": "q3jmQa4XroqC",
    "outputId": "153f0a01-b83b-492f-cf0e-f8ed6e771916"
   },
   "outputs": [],
   "source": [
    "print(\"Elapsed processing time: {}\".format(end_time - start_time))\n",
    "loss = obj.get_loss()\n",
    "loss = [t.item() for t in loss]\n",
    "losses[optimizer][\"e10000\"] = loss"
   ]
  },
  {
   "cell_type": "code",
   "execution_count": null,
   "metadata": {
    "id": "vIz6qxZ3roqC"
   },
   "outputs": [],
   "source": [
    "create_gif(exp_name)"
   ]
  },
  {
   "cell_type": "code",
   "execution_count": null,
   "metadata": {
    "id": "DoHwixDXroqC"
   },
   "outputs": [],
   "source": [
    "display(Image(filename=\"Outputs/{0}/gif.gif\".format(exp_name)))"
   ]
  },
  {
   "cell_type": "markdown",
   "metadata": {
    "id": "eOmM0ueKNHLZ"
   },
   "source": [
    "## Experiment 0.3\n",
    "\n",
    "\n",
    "LBFGSv2\n",
    "We made changes in LBFGS optimizer in the NST.py file to test if the optimizer perfermed better by using line search function. We later reversed these changes as they did not improve the performance of the optimizer. So if the code is rerun. Experiment 0.2 and 0.3 will give the same output"
   ]
  },
  {
   "cell_type": "code",
   "execution_count": null,
   "metadata": {
    "id": "35sXLOetNHLl"
   },
   "outputs": [],
   "source": [
    "optimizer = \"LBFGS\""
   ]
  },
  {
   "cell_type": "markdown",
   "metadata": {
    "id": "08yAoQHKNHLl"
   },
   "source": [
    "### Experiment 0.3.1"
   ]
  },
  {
   "cell_type": "code",
   "execution_count": null,
   "metadata": {
    "colab": {
     "base_uri": "https://localhost:8080/"
    },
    "executionInfo": {
     "elapsed": 16997,
     "status": "ok",
     "timestamp": 1701901060853,
     "user": {
      "displayName": "Pankaj Yadav",
      "userId": "01823062007120238509"
     },
     "user_tz": 300
    },
    "id": "nhh1vPVvNHLl",
    "outputId": "dad12f84-c8dc-4322-858b-99f346567866"
   },
   "outputs": [],
   "source": [
    "obj = StyleTransfer(content_image4, style_image4)"
   ]
  },
  {
   "cell_type": "code",
   "execution_count": null,
   "metadata": {
    "colab": {
     "base_uri": "https://localhost:8080/",
     "height": 422,
     "output_embedded_package_id": "1JXhCjDgluDwRXHkAFuP8rd45SnRXKDyy"
    },
    "executionInfo": {
     "elapsed": 4079,
     "status": "ok",
     "timestamp": 1701901064931,
     "user": {
      "displayName": "Pankaj Yadav",
      "userId": "01823062007120238509"
     },
     "user_tz": 300
    },
    "id": "6ZXiIZkdNHLl",
    "outputId": "86dabef9-27a1-4c0a-e37a-a0899f7a05fa"
   },
   "outputs": [],
   "source": [
    "exp_name = \"Experiment_0.3.1\"\n",
    "obj.set_exp(exp_name)\n",
    "obj.show_images()"
   ]
  },
  {
   "cell_type": "code",
   "execution_count": null,
   "metadata": {
    "colab": {
     "base_uri": "https://localhost:8080/",
     "height": 469
    },
    "executionInfo": {
     "elapsed": 503771,
     "status": "ok",
     "timestamp": 1701901568696,
     "user": {
      "displayName": "Pankaj Yadav",
      "userId": "01823062007120238509"
     },
     "user_tz": 300
    },
    "id": "0rxTeQd7NHLm",
    "outputId": "8f792a2f-741a-4a6e-fde6-ada497bbe394"
   },
   "outputs": [],
   "source": [
    "start_time = time.time()\n",
    "obj.run(opt = optimizer)\n",
    "end_time = time.time()"
   ]
  },
  {
   "cell_type": "code",
   "execution_count": null,
   "metadata": {
    "colab": {
     "base_uri": "https://localhost:8080/"
    },
    "executionInfo": {
     "elapsed": 123,
     "status": "ok",
     "timestamp": 1701901658670,
     "user": {
      "displayName": "Pankaj Yadav",
      "userId": "01823062007120238509"
     },
     "user_tz": 300
    },
    "id": "doHGXvL1NHLm",
    "outputId": "75074f34-87f7-49a8-f488-763ad71df819"
   },
   "outputs": [],
   "source": [
    "print(\"Elapsed processing time: {}\".format(end_time - start_time))\n",
    "loss = obj.get_loss()\n",
    "loss = [t.item() for t in loss]\n",
    "losses[optimizer+\"v2\"] = {}\n",
    "losses[optimizer+\"v2\"][\"e5000\"] = loss"
   ]
  },
  {
   "cell_type": "code",
   "execution_count": null,
   "metadata": {
    "id": "3ydNNVz5NHLn"
   },
   "outputs": [],
   "source": [
    "create_gif(exp_name)"
   ]
  },
  {
   "cell_type": "code",
   "execution_count": null,
   "metadata": {
    "id": "0FSQf-xKNHLn"
   },
   "outputs": [],
   "source": [
    "display(Image(filename=\"Outputs/{0}/gif.gif\".format(exp_name)))"
   ]
  },
  {
   "cell_type": "markdown",
   "metadata": {
    "id": "CTYA6GS1NHLn"
   },
   "source": [
    "\n",
    "### Experiment 0.3.2"
   ]
  },
  {
   "cell_type": "code",
   "execution_count": null,
   "metadata": {
    "colab": {
     "base_uri": "https://localhost:8080/"
    },
    "executionInfo": {
     "elapsed": 2550,
     "status": "ok",
     "timestamp": 1701901859592,
     "user": {
      "displayName": "Pankaj Yadav",
      "userId": "01823062007120238509"
     },
     "user_tz": 300
    },
    "id": "9P_uyIoINHLn",
    "outputId": "926b2b1c-0cd0-4e81-8445-07fa952d9e67"
   },
   "outputs": [],
   "source": [
    "epochs = 10000\n",
    "obj = StyleTransfer(content_image4, style_image4)"
   ]
  },
  {
   "cell_type": "code",
   "execution_count": null,
   "metadata": {
    "colab": {
     "base_uri": "https://localhost:8080/",
     "height": 422,
     "output_embedded_package_id": "1rkN-wM0ZDNZ7AQg2swi92V8sg90PAYv7"
    },
    "executionInfo": {
     "elapsed": 3772,
     "status": "ok",
     "timestamp": 1701901863360,
     "user": {
      "displayName": "Pankaj Yadav",
      "userId": "01823062007120238509"
     },
     "user_tz": 300
    },
    "id": "z85r6nqwNHLn",
    "outputId": "060fada8-3d02-412c-c84e-6886ae5174b0"
   },
   "outputs": [],
   "source": [
    "exp_name = \"Experiment_0.3.2\"\n",
    "obj.set_exp(exp_name)\n",
    "obj.show_images()"
   ]
  },
  {
   "cell_type": "code",
   "execution_count": null,
   "metadata": {
    "colab": {
     "base_uri": "https://localhost:8080/",
     "height": 469
    },
    "executionInfo": {
     "elapsed": 103399,
     "status": "ok",
     "timestamp": 1701902850208,
     "user": {
      "displayName": "Pankaj Yadav",
      "userId": "01823062007120238509"
     },
     "user_tz": 300
    },
    "id": "E91A-Z6yNHLo",
    "outputId": "e34a993b-e2b2-4828-fda0-f9c4e42ca87a"
   },
   "outputs": [],
   "source": [
    "start_time = time.time()\n",
    "obj.run(opt = optimizer, steps = epochs)\n",
    "end_time = time.time()"
   ]
  },
  {
   "cell_type": "code",
   "execution_count": null,
   "metadata": {
    "colab": {
     "base_uri": "https://localhost:8080/"
    },
    "executionInfo": {
     "elapsed": 0,
     "status": "ok",
     "timestamp": 1701902850217,
     "user": {
      "displayName": "Pankaj Yadav",
      "userId": "01823062007120238509"
     },
     "user_tz": 300
    },
    "id": "A0yg_OB3NHLo",
    "outputId": "f1038f4c-92ac-4a0e-d5ed-81bc92bf83ff"
   },
   "outputs": [],
   "source": [
    "print(\"Elapsed processing time: {}\".format(end_time - start_time))\n",
    "loss = obj.get_loss()\n",
    "loss = [t.item() for t in loss]\n",
    "losses[optimizer+\"v2\"][\"e10000\"] = loss"
   ]
  },
  {
   "cell_type": "code",
   "execution_count": null,
   "metadata": {
    "id": "j0vJk-WVNHLo"
   },
   "outputs": [],
   "source": [
    "create_gif(exp_name)"
   ]
  },
  {
   "cell_type": "code",
   "execution_count": null,
   "metadata": {
    "id": "aJsOv_1KNHLp"
   },
   "outputs": [],
   "source": [
    "display(Image(filename=\"Outputs/{0}/gif.gif\".format(exp_name)))"
   ]
  },
  {
   "cell_type": "markdown",
   "metadata": {
    "id": "9adav5k6y57a"
   },
   "source": [
    "## Experiment 0.4\n",
    "\n",
    "Adam Optimizer"
   ]
  },
  {
   "cell_type": "code",
   "execution_count": null,
   "metadata": {
    "id": "5mVWXLtGy57b"
   },
   "outputs": [],
   "source": [
    "optimizer = \"Adam\""
   ]
  },
  {
   "cell_type": "markdown",
   "metadata": {
    "id": "QGae3Orzy57b"
   },
   "source": [
    "### Experiment 0.4.1"
   ]
  },
  {
   "cell_type": "code",
   "execution_count": null,
   "metadata": {
    "id": "KOU72hcMzA6d"
   },
   "outputs": [],
   "source": [
    "alpha = 0\n",
    "beta = 1"
   ]
  },
  {
   "cell_type": "code",
   "execution_count": null,
   "metadata": {
    "colab": {
     "base_uri": "https://localhost:8080/"
    },
    "executionInfo": {
     "elapsed": 18553,
     "status": "ok",
     "timestamp": 1701911115908,
     "user": {
      "displayName": "Pankaj Yadav",
      "userId": "01823062007120238509"
     },
     "user_tz": 300
    },
    "id": "PyUKaVmgy57c",
    "outputId": "7d6d5f5c-cc66-4a65-ce91-4901c127e5b2"
   },
   "outputs": [],
   "source": [
    "obj = StyleTransfer(content_image4, style_image4)"
   ]
  },
  {
   "cell_type": "code",
   "execution_count": null,
   "metadata": {
    "colab": {
     "background_save": true,
     "output_embedded_package_id": "1JCxCy4PN0sa3rHJkyVgFosvcYeEdd8_V"
    },
    "id": "1qUKy20gy57c",
    "outputId": "54a91605-ca2a-4eb3-9b38-539169a7eabd"
   },
   "outputs": [],
   "source": [
    "exp_name = \"Experiment_0.4.1\"\n",
    "obj.set_exp(exp_name)\n",
    "obj.show_images()"
   ]
  },
  {
   "cell_type": "code",
   "execution_count": null,
   "metadata": {
    "id": "orF7Nmo0y57d"
   },
   "outputs": [],
   "source": [
    "start_time = time.time()\n",
    "obj.run(opt = optimizer)\n",
    "end_time = time.time()"
   ]
  },
  {
   "cell_type": "code",
   "execution_count": null,
   "metadata": {
    "colab": {
     "base_uri": "https://localhost:8080/"
    },
    "executionInfo": {
     "elapsed": 506,
     "status": "ok",
     "timestamp": 1701559397097,
     "user": {
      "displayName": "Pankaj Yadav",
      "userId": "01823062007120238509"
     },
     "user_tz": 300
    },
    "id": "25OjFPNay57d",
    "outputId": "556be76a-a132-4a2a-be03-5f42bf8e4c75"
   },
   "outputs": [],
   "source": [
    "print(\"Elapsed processing time: {}\".format(end_time - start_time))\n",
    "loss = obj.get_loss()\n",
    "loss = [t.item() for t in loss]\n",
    "ab_losses[optimizer][\"e5000\"] = loss\n",
    "losses"
   ]
  },
  {
   "cell_type": "code",
   "execution_count": null,
   "metadata": {
    "id": "aO0TVZ60y57d"
   },
   "outputs": [],
   "source": [
    "create_gif(exp_name)"
   ]
  },
  {
   "cell_type": "code",
   "execution_count": null,
   "metadata": {
    "colab": {
     "base_uri": "https://localhost:8080/",
     "height": 417
    },
    "executionInfo": {
     "elapsed": 69650,
     "status": "ok",
     "timestamp": 1701556998452,
     "user": {
      "displayName": "Pankaj Yadav",
      "userId": "01823062007120238509"
     },
     "user_tz": 300
    },
    "id": "WhSrfaVsy57d",
    "outputId": "4eeae2a4-49d1-4b94-8181-c335be78d64c"
   },
   "outputs": [],
   "source": [
    "display(Image(filename=\"Outputs/{0}/gif.gif\".format(exp_name)))"
   ]
  },
  {
   "cell_type": "markdown",
   "metadata": {
    "id": "ubdCd1Qey576"
   },
   "source": [
    "### Experiment 0.4.2"
   ]
  },
  {
   "cell_type": "code",
   "execution_count": null,
   "metadata": {
    "colab": {
     "base_uri": "https://localhost:8080/"
    },
    "executionInfo": {
     "elapsed": 2236,
     "status": "ok",
     "timestamp": 1701557727472,
     "user": {
      "displayName": "Pankaj Yadav",
      "userId": "01823062007120238509"
     },
     "user_tz": 300
    },
    "id": "FEunDGAzy577",
    "outputId": "f5f6ac46-154e-4c20-fb95-957b65b9cbe5"
   },
   "outputs": [],
   "source": [
    "epochs = 10000\n",
    "obj = StyleTransfer(content_image4, style_image4)"
   ]
  },
  {
   "cell_type": "code",
   "execution_count": null,
   "metadata": {
    "colab": {
     "background_save": true,
     "base_uri": "https://localhost:8080/",
     "height": 422,
     "output_embedded_package_id": "1JvuNNMdNmswxNDiIVl2Vrmr_KEsgKD-L"
    },
    "executionInfo": {
     "elapsed": 10723,
     "status": "ok",
     "timestamp": 1701559435178,
     "user": {
      "displayName": "Pankaj Yadav",
      "userId": "01823062007120238509"
     },
     "user_tz": 300
    },
    "id": "RATiM3zMy577",
    "outputId": "8456f10a-3075-47a6-ad35-e2c60b0d78f1"
   },
   "outputs": [],
   "source": [
    "exp_name = \"Experiment_0.4.2\"\n",
    "obj.set_exp(exp_name)\n",
    "obj.show_images()"
   ]
  },
  {
   "cell_type": "code",
   "execution_count": null,
   "metadata": {
    "colab": {
     "base_uri": "https://localhost:8080/",
     "height": 469
    },
    "executionInfo": {
     "elapsed": 87844,
     "status": "ok",
     "timestamp": 1701558740156,
     "user": {
      "displayName": "Pankaj Yadav",
      "userId": "01823062007120238509"
     },
     "user_tz": 300
    },
    "id": "rFFqvphQy578",
    "outputId": "774c7ade-ef47-4dbc-ad5d-76533efb6e68"
   },
   "outputs": [],
   "source": [
    "start_time = time.time()\n",
    "obj.run(opt = optimizer, steps = epochs)\n",
    "end_time = time.time()"
   ]
  },
  {
   "cell_type": "code",
   "execution_count": null,
   "metadata": {
    "colab": {
     "base_uri": "https://localhost:8080/"
    },
    "executionInfo": {
     "elapsed": 368,
     "status": "ok",
     "timestamp": 1701558842717,
     "user": {
      "displayName": "Pankaj Yadav",
      "userId": "01823062007120238509"
     },
     "user_tz": 300
    },
    "id": "SffQN97uy578",
    "outputId": "2913161d-49f9-4d6f-ec74-1770edad88d5"
   },
   "outputs": [],
   "source": [
    "print(\"Elapsed processing time: {}\".format(end_time - start_time))\n",
    "loss = obj.get_loss()\n",
    "loss = [t.item() for t in loss]\n",
    "losses[optimizer][\"e10000\"] = loss\n",
    "losses"
   ]
  },
  {
   "cell_type": "code",
   "execution_count": null,
   "metadata": {
    "id": "Ks0cQdVly57-"
   },
   "outputs": [],
   "source": [
    "create_gif(exp_name)"
   ]
  },
  {
   "cell_type": "markdown",
   "metadata": {
    "id": "g5mPHId93ljs"
   },
   "source": [
    "# Saving Losses\n",
    "Saving losses to compare the optimization process for the two optimizers."
   ]
  },
  {
   "cell_type": "code",
   "execution_count": null,
   "metadata": {
    "id": "Cn1s5TEN3kpr"
   },
   "outputs": [],
   "source": [
    "import json\n",
    "with open(\"Outputs/optimizers_losses.json\", \"w\") as json_file:\n",
    "    json.dump(losses, json_file)"
   ]
  },
  {
   "cell_type": "code",
   "execution_count": null,
   "metadata": {
    "colab": {
     "base_uri": "https://localhost:8080/"
    },
    "executionInfo": {
     "elapsed": 160,
     "status": "ok",
     "timestamp": 1701902926468,
     "user": {
      "displayName": "Pankaj Yadav",
      "userId": "01823062007120238509"
     },
     "user_tz": 300
    },
    "id": "aZW0Qal568Gx",
    "outputId": "16e2b5aa-3801-4021-83eb-303c23eeaa6b"
   },
   "outputs": [],
   "source": [
    "for k,v in losses.items():\n",
    "    print(k)\n",
    "    for k1, v1 in v.items():\n",
    "        print(k1, \" -- \" ,len(v1))\n",
    "    print(\"\\n\")"
   ]
  }
 ],
 "metadata": {
  "accelerator": "GPU",
  "colab": {
   "provenance": [],
   "toc_visible": true
  },
  "kernelspec": {
   "display_name": "Python 3 (ipykernel)",
   "language": "python",
   "name": "python3"
  },
  "language_info": {
   "codemirror_mode": {
    "name": "ipython",
    "version": 3
   },
   "file_extension": ".py",
   "mimetype": "text/x-python",
   "name": "python",
   "nbconvert_exporter": "python",
   "pygments_lexer": "ipython3",
   "version": "3.9.6"
  }
 },
 "nbformat": 4,
 "nbformat_minor": 1
}
